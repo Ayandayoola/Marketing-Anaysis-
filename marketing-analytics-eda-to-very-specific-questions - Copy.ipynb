{
 "cells": [
  {
   "cell_type": "markdown",
   "id": "501f5b50",
   "metadata": {
    "papermill": {
     "duration": 0.105046,
     "end_time": "2022-01-30T08:50:42.620599",
     "exception": false,
     "start_time": "2022-01-30T08:50:42.515553",
     "status": "completed"
    },
    "tags": []
   },
   "source": [
    "# > Problem Statement\n",
    "You're a marketing analyst and you've been told by the Senior Marketing Manager that recent\n",
    "marketing campaigns have not been as effective as they were expected to be. You need to analyze\n",
    "the data set in order to understand this problem and propose data-driven solutions. You are required\n",
    "to solve the following questions to generate a report for your management"
   ]
  },
  {
   "cell_type": "markdown",
   "id": "2ce26144",
   "metadata": {
    "papermill": {
     "duration": 0.063063,
     "end_time": "2022-01-30T08:50:42.754052",
     "exception": false,
     "start_time": "2022-01-30T08:50:42.690989",
     "status": "completed"
    },
    "tags": []
   },
   "source": [
    "# Import Datasets"
   ]
  },
  {
   "cell_type": "markdown",
   "id": "bad2e283",
   "metadata": {
    "papermill": {
     "duration": 0.063227,
     "end_time": "2022-01-30T08:50:42.880868",
     "exception": false,
     "start_time": "2022-01-30T08:50:42.817641",
     "status": "completed"
    },
    "tags": []
   },
   "source": [
    "Q1. Import necessary libraries and load the dataset and display random 5 samples. Check the info of the data and write your findings."
   ]
  },
  {
   "cell_type": "markdown",
   "id": "4b9379bb",
   "metadata": {
    "papermill": {
     "duration": 0.064845,
     "end_time": "2022-01-30T08:50:44.459170",
     "exception": false,
     "start_time": "2022-01-30T08:50:44.394325",
     "status": "completed"
    },
    "tags": []
   },
   "source": [
    "- The shape of table is (2240,28) , i.e 2240 rows, 28 columns\n",
    "- Out of 28 columns, 23 columns are of int data type, and rest 5 are of object\n"
   ]
  },
  {
   "cell_type": "markdown",
   "id": "cb114f05",
   "metadata": {
    "papermill": {
     "duration": 0.064453,
     "end_time": "2022-01-30T08:50:44.588713",
     "exception": false,
     "start_time": "2022-01-30T08:50:44.524260",
     "status": "completed"
    },
    "tags": []
   },
   "source": [
    "> Q2. Check the following using an appropriate method and write your findings (1 point)\n",
    "* i) Check how spread out or varied your data set is (i.e standard         deviation).\n",
    "* ii) Check where the middle 50% of your data lies.\n",
    "* iii) Check boundaries for the lower, middle and upper quarters of data.\n",
    "\n"
   ]
  },
  {
   "cell_type": "markdown",
   "id": "8510eda1",
   "metadata": {
    "papermill": {
     "duration": 0.079542,
     "end_time": "2022-01-30T08:50:49.035612",
     "exception": false,
     "start_time": "2022-01-30T08:50:48.956070",
     "status": "completed"
    },
    "tags": []
   },
   "source": [
    "# Missing Values"
   ]
  },
  {
   "cell_type": "markdown",
   "id": "1f355f63",
   "metadata": {
    "papermill": {
     "duration": 0.079826,
     "end_time": "2022-01-30T08:50:49.198834",
     "exception": false,
     "start_time": "2022-01-30T08:50:49.119008",
     "status": "completed"
    },
    "tags": []
   },
   "source": [
    "> Q3) Check for any missing values in the dataset and handle them using an appropriate method. \n"
   ]
  },
  {
   "cell_type": "markdown",
   "id": "8989e595",
   "metadata": {
    "papermill": {
     "duration": 0.083988,
     "end_time": "2022-01-30T08:50:51.587213",
     "exception": false,
     "start_time": "2022-01-30T08:50:51.503225",
     "status": "completed"
    },
    "tags": []
   },
   "source": [
    "> Q4) Check for any presence of special characters in any variables. If present, clean/replace and\n",
    "change the datatype of the variable if required. "
   ]
  },
  {
   "cell_type": "markdown",
   "id": "bdcc8877",
   "metadata": {
    "papermill": {
     "duration": 0.085382,
     "end_time": "2022-01-30T08:50:52.661344",
     "exception": false,
     "start_time": "2022-01-30T08:50:52.575962",
     "status": "completed"
    },
    "tags": []
   },
   "source": [
    "# Age of Cutomers"
   ]
  },
  {
   "cell_type": "markdown",
   "id": "ad76e52b",
   "metadata": {
    "papermill": {
     "duration": 0.086269,
     "end_time": "2022-01-30T08:50:52.834326",
     "exception": false,
     "start_time": "2022-01-30T08:50:52.748057",
     "status": "completed"
    },
    "tags": []
   },
   "source": [
    "> Q5) The Marketing Manager wants to know the 'Age' of the customers. Extract the feature age\n",
    "from the given dataset and display the statistical summary of the age?(i.e get the statistical info)"
   ]
  },
  {
   "cell_type": "markdown",
   "id": "57790d77",
   "metadata": {
    "papermill": {
     "duration": 0.092381,
     "end_time": "2022-01-30T08:50:56.144161",
     "exception": false,
     "start_time": "2022-01-30T08:50:56.051780",
     "status": "completed"
    },
    "tags": []
   },
   "source": [
    "# Total Amount Spent on Products"
   ]
  },
  {
   "cell_type": "markdown",
   "id": "c5a67a30",
   "metadata": {
    "papermill": {
     "duration": 0.090455,
     "end_time": "2022-01-30T08:50:56.327303",
     "exception": false,
     "start_time": "2022-01-30T08:50:56.236848",
     "status": "completed"
    },
    "tags": []
   },
   "source": [
    "> Q6) The Marketing manager wants to understand the total amount spent on various products so\n",
    "that we can find what percentage of the amount is spent on which product.\n",
    "1.  Find out the total amount spent by a customer.\n",
    "2.  Display the Percentage of the amount spent on Wines and other products."
   ]
  },
  {
   "cell_type": "markdown",
   "id": "541481b8",
   "metadata": {
    "papermill": {
     "duration": 0.096938,
     "end_time": "2022-01-30T08:50:58.124667",
     "exception": false,
     "start_time": "2022-01-30T08:50:58.027729",
     "status": "completed"
    },
    "tags": []
   },
   "source": [
    "# Purchases made  via different channels"
   ]
  },
  {
   "cell_type": "markdown",
   "id": "54a8c674",
   "metadata": {
    "papermill": {
     "duration": 0.096856,
     "end_time": "2022-01-30T08:50:58.318354",
     "exception": false,
     "start_time": "2022-01-30T08:50:58.221498",
     "status": "completed"
    },
    "tags": []
   },
   "source": [
    "> Q7) Being an Analyst understands the total number of purchases made through different channels\n",
    "which can help find the percentage these channels contribute. \n",
    "1.  Find out the total purchases done by a customer through different channels.\n",
    "2. Display the percentage of the store and other channels’ contribution to the total\n",
    "purchases.\n"
   ]
  },
  {
   "cell_type": "markdown",
   "id": "b85863bc",
   "metadata": {
    "papermill": {
     "duration": 0.096254,
     "end_time": "2022-01-30T08:50:59.151161",
     "exception": false,
     "start_time": "2022-01-30T08:50:59.054907",
     "status": "completed"
    },
    "tags": []
   },
   "source": [
    "# Performance of Marketing Campaigns"
   ]
  },
  {
   "cell_type": "markdown",
   "id": "e1a92946",
   "metadata": {
    "papermill": {
     "duration": 0.096305,
     "end_time": "2022-01-30T08:50:59.345764",
     "exception": false,
     "start_time": "2022-01-30T08:50:59.249459",
     "status": "completed"
    },
    "tags": []
   },
   "source": [
    "> Q8) The marketing manager wants to understand the performance of different marketing\n",
    "campaigns. Find out which marketing campaign is most successful? Use suitable graphs for\n",
    "visualization. (Hint:- use features like AcceptedCmp for campaign information)\n"
   ]
  },
  {
   "cell_type": "markdown",
   "id": "352433e9",
   "metadata": {
    "papermill": {
     "duration": 0.09773,
     "end_time": "2022-01-30T08:51:00.690163",
     "exception": false,
     "start_time": "2022-01-30T08:51:00.592433",
     "status": "completed"
    },
    "tags": []
   },
   "source": [
    "# Revenue Generated by different products"
   ]
  },
  {
   "cell_type": "markdown",
   "id": "3f2f52a4",
   "metadata": {
    "papermill": {
     "duration": 0.097999,
     "end_time": "2022-01-30T08:51:00.885922",
     "exception": false,
     "start_time": "2022-01-30T08:51:00.787923",
     "status": "completed"
    },
    "tags": []
   },
   "source": [
    "> Q9)The marketing manager wants to understand which products are performing the best and\n",
    "which are performing the least in terms of revenue. Being an analyst, analyse the data and plot\n",
    "a suitable graph to display a report on revenue generated by different products. "
   ]
  },
  {
   "cell_type": "markdown",
   "id": "c4183143",
   "metadata": {
    "papermill": {
     "duration": 0.101886,
     "end_time": "2022-01-30T08:51:01.904037",
     "exception": false,
     "start_time": "2022-01-30T08:51:01.802151",
     "status": "completed"
    },
    "tags": []
   },
   "source": [
    "# Patten b/w age and last campaing acceptance\n"
   ]
  },
  {
   "cell_type": "markdown",
   "id": "6889259a",
   "metadata": {
    "papermill": {
     "duration": 0.102723,
     "end_time": "2022-01-30T08:51:02.107368",
     "exception": false,
     "start_time": "2022-01-30T08:51:02.004645",
     "status": "completed"
    },
    "tags": []
   },
   "source": [
    "> Q10) The team wants to understand if there’s any pattern between the age of customers and the\n",
    "last campaign acceptance rate. Plot a suitable graph to visualize the distribution of the age\n",
    "with respect to customers who accepted the last campaign."
   ]
  },
  {
   "cell_type": "markdown",
   "id": "155002c8",
   "metadata": {
    "papermill": {
     "duration": 0.105967,
     "end_time": "2022-01-30T08:51:05.197127",
     "exception": false,
     "start_time": "2022-01-30T08:51:05.091160",
     "status": "completed"
    },
    "tags": []
   },
   "source": [
    "# Country with most accepted in last campaign"
   ]
  },
  {
   "cell_type": "markdown",
   "id": "d44b712b",
   "metadata": {
    "papermill": {
     "duration": 0.106304,
     "end_time": "2022-01-30T08:51:05.411489",
     "exception": false,
     "start_time": "2022-01-30T08:51:05.305185",
     "status": "completed"
    },
    "tags": []
   },
   "source": [
    "> Q11)The Chief Marketing specialist wants to visually see which Country has the most number of\n",
    "customers who accepted the last campaign. What is your approach?"
   ]
  },
  {
   "cell_type": "markdown",
   "id": "084e108d",
   "metadata": {
    "papermill": {
     "duration": 0.107468,
     "end_time": "2022-01-30T08:51:06.385462",
     "exception": false,
     "start_time": "2022-01-30T08:51:06.277994",
     "status": "completed"
    },
    "tags": []
   },
   "source": [
    "# Total amount/purchase v/s Dependents"
   ]
  },
  {
   "cell_type": "markdown",
   "id": "7223ce50",
   "metadata": {
    "papermill": {
     "duration": 0.107046,
     "end_time": "2022-01-30T08:51:06.599773",
     "exception": false,
     "start_time": "2022-01-30T08:51:06.492727",
     "status": "completed"
    },
    "tags": []
   },
   "source": [
    "> Q12)Analyse visually and write your inferences about the relationship between the following:-\n",
    "1. Total amount spent Vs Dependents. (Dependents=['Kidhome']+['Teenhome'])\n",
    "2. Total Purchases Vs Dependents.\n"
   ]
  },
  {
   "cell_type": "markdown",
   "id": "492082bd",
   "metadata": {
    "papermill": {
     "duration": 0.112982,
     "end_time": "2022-01-30T08:51:17.257745",
     "exception": false,
     "start_time": "2022-01-30T08:51:17.144763",
     "status": "completed"
    },
    "tags": []
   },
   "source": [
    "# Correlation analysis"
   ]
  },
  {
   "cell_type": "markdown",
   "id": "b79bf064",
   "metadata": {
    "papermill": {
     "duration": 0.113131,
     "end_time": "2022-01-30T08:51:17.485701",
     "exception": false,
     "start_time": "2022-01-30T08:51:17.372570",
     "status": "completed"
    },
    "tags": []
   },
   "source": [
    "> Q13) Perform Correlation Analysis and write your key inferences. "
   ]
  },
  {
   "cell_type": "markdown",
   "id": "b161338a",
   "metadata": {
    "papermill": {
     "duration": 0.157295,
     "end_time": "2022-01-30T08:51:40.019097",
     "exception": false,
     "start_time": "2022-01-30T08:51:39.861802",
     "status": "completed"
    },
    "tags": []
   },
   "source": [
    "# Education v/s complaints"
   ]
  },
  {
   "cell_type": "markdown",
   "id": "d562cee7",
   "metadata": {
    "papermill": {
     "duration": 0.154778,
     "end_time": "2022-01-30T08:51:40.328057",
     "exception": false,
     "start_time": "2022-01-30T08:51:40.173279",
     "status": "completed"
    },
    "tags": []
   },
   "source": [
    "Q14) Understand the Education background of the customers who complained in the last 2 years.\n",
    "State the Education background of the customers who have registered the most number of\n",
    "complaints."
   ]
  },
  {
   "cell_type": "markdown",
   "id": "525d61eb",
   "metadata": {
    "papermill": {
     "duration": 0.156774,
     "end_time": "2022-01-30T08:51:41.541797",
     "exception": false,
     "start_time": "2022-01-30T08:51:41.385023",
     "status": "completed"
    },
    "tags": []
   },
   "source": [
    "# Some more relations"
   ]
  },
  {
   "cell_type": "markdown",
   "id": "f03e422a",
   "metadata": {
    "papermill": {
     "duration": 0.181811,
     "end_time": "2022-01-30T08:51:42.263192",
     "exception": false,
     "start_time": "2022-01-30T08:51:42.081381",
     "status": "completed"
    },
    "tags": []
   },
   "source": [
    "Q15) .Use features 'Total_amount_spent', 'MntFruits', 'MntMeatProducts', 'MntFishProducts',\n",
    "'MntSweetProducts' and, 'MntGoldProds' in x-axis and y-axis and plot the following plots. (2\n",
    "points)\n",
    "\n",
    "1. Plot a pairplot with hue as Response.\n",
    "2. Plot a pairplot with hue as Education.\n",
    "3. Plot a pairplot with hue as Marital Status and write your key observations."
   ]
  },
  {
   "cell_type": "code",
   "execution_count": null,
   "id": "2624f79e",
   "metadata": {},
   "outputs": [],
   "source": []
  }
 ],
 "metadata": {
  "kernelspec": {
   "display_name": "Python 3",
   "language": "python",
   "name": "python3"
  },
  "language_info": {
   "codemirror_mode": {
    "name": "ipython",
    "version": 3
   },
   "file_extension": ".py",
   "mimetype": "text/x-python",
   "name": "python",
   "nbconvert_exporter": "python",
   "pygments_lexer": "ipython3",
   "version": "3.8.5"
  },
  "papermill": {
   "default_parameters": {},
   "duration": 97.282184,
   "end_time": "2022-01-30T08:52:09.563096",
   "environment_variables": {},
   "exception": null,
   "input_path": "__notebook__.ipynb",
   "output_path": "__notebook__.ipynb",
   "parameters": {},
   "start_time": "2022-01-30T08:50:32.280912",
   "version": "2.3.3"
  }
 },
 "nbformat": 4,
 "nbformat_minor": 5
}
